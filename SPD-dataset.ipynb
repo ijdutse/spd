{
 "cells": [
  {
   "cell_type": "markdown",
   "metadata": {},
   "source": [
    "    #Python script to share which will enable the public extract the tweets/data directly from Twitter. We are not sharing the dehaydrated tweets due to sharing policy of Twitter ... "
   ]
  },
  {
   "cell_type": "code",
   "execution_count": 1,
   "metadata": {},
   "outputs": [],
   "source": [
    "import pandas as pd\n",
    "import numpy as np\n",
    "import tweepy\n",
    "import json"
   ]
  },
  {
   "cell_type": "markdown",
   "metadata": {},
   "source": [
    "    # load the file (using the correct path)"
   ]
  },
  {
   "cell_type": "code",
   "execution_count": 19,
   "metadata": {},
   "outputs": [],
   "source": [
    "df = pd.read_csv('spd-dataset_01_ids.csv')\n",
    "list_of_users_ids = df.UserID.tolist() # remember to separate the AccountClass during collection"
   ]
  },
  {
   "cell_type": "code",
   "execution_count": 26,
   "metadata": {},
   "outputs": [
    {
     "data": {
      "text/plain": [
       "(17515, 17515)"
      ]
     },
     "execution_count": 26,
     "metadata": {},
     "output_type": "execute_result"
    }
   ],
   "source": [
    "len(df), len(list_of_users_ids)"
   ]
  },
  {
   "cell_type": "markdown",
   "metadata": {},
   "source": [
    "**Authentication with Twitter:**\n",
    "    #to get authentication keys visit: https://developer.twitter.com/en/docs/basics/authentication/guides/access-tokens.html"
   ]
  },
  {
   "cell_type": "code",
   "execution_count": 23,
   "metadata": {},
   "outputs": [],
   "source": [
    "# authentication keys:\n",
    "consumer_key = \"YOUR CONSUMER KEY\"\n",
    "consumer_secret = \"YOUR CONSUMER SECRET\"\n",
    "access_token = \"YOUR ACCESS TOKEN\"\n",
    "access_token_secret = \"YOUR  ACCESS TOKEN SECRET\""
   ]
  },
  {
   "cell_type": "code",
   "execution_count": 3,
   "metadata": {},
   "outputs": [],
   "source": [
    "# authentication instance:\n",
    "auth = tweepy.OAuthHandler(consumer_key, consumer_secret) # required for validation\n",
    "auth.set_access_token(access_token, access_token_secret) # required for access after validation of user\n",
    "api =  tweepy.API(auth) # tweepy requires authenticated user to operate"
   ]
  },
  {
   "cell_type": "markdown",
   "metadata": {},
   "source": [
    "    # search or look-up for users ... each search instance should not exceed 100, e.g list_of_users_ids[:100] "
   ]
  },
  {
   "cell_type": "code",
   "execution_count": null,
   "metadata": {},
   "outputs": [],
   "source": [
    "# empty dataframe to store extracted data:\n",
    "dfs = pd.DataFrame()\n",
    "\n",
    "# read the data in chunks of 100 ... \n",
    "for chunk in pd.read_csv('spd-dataset_01_ids.csv',chunksize=100):\n",
    "    list_of_users_ids = [int(i) for i in chunk.UserID.tolist()]\n",
    "    # users' look-up .... \n",
    "    users = api.lookup_users(user_ids=list_of_users_ids)\n",
    "    \n",
    "    # data structure to store relevant fields/metadata in the tweet object ... \n",
    "    extracts = {'UserID':[],'ScreenName':[],'AccountCreated':[],'Description':[],'Tweets':[],'TweetCreatedAt':[],\\\n",
    "                'TweetFavouriteCount':[], 'FollowersCount':[], 'StatusesCount':[],'FriendsCount':[]} \n",
    "    \n",
    "    # extract relevant metadata ...\n",
    "    for user in users:\n",
    "        try: # avoids stopping incase of suspended/deleted account \n",
    "            extracts['UserID'].append(user.id)\n",
    "            extracts['ScreenName'].append(user.screen_name)\n",
    "            extracts['AccountCreated'].append(user.created_at)\n",
    "            extracts['Description'].append(user.description)\n",
    "            extracts['Tweets'].append(user.status.text)\n",
    "            extracts['TweetCreatedAt'].append(user.status.created_at)\n",
    "            extracts['TweetFavouriteCount'].append(user.status.favorite_count)\n",
    "            extracts['FollowersCount'].append(user.followers_count)\n",
    "            extracts['StatusesCount'].append(user.statuses_count)\n",
    "            extracts['FriendsCount'].append(user.friends_count)\n",
    "        except:\n",
    "            continue\n",
    "    \n",
    "    # convert to dataframe for fruther processing .... \n",
    "    try:\n",
    "        d = pd.DataFrame(extracts)\n",
    "        dfs = dfs.append(d) # update the empty dataframe created earlier\n",
    "    except:\n",
    "        continue"
   ]
  },
  {
   "cell_type": "markdown",
   "metadata": {},
   "source": [
    "    # save the extracted data:"
   ]
  },
  {
   "cell_type": "code",
   "execution_count": null,
   "metadata": {},
   "outputs": [],
   "source": [
    "dfs.to_csv('spd-dataset_extracts.csv', index_label=False)"
   ]
  },
  {
   "cell_type": "code",
   "execution_count": null,
   "metadata": {},
   "outputs": [],
   "source": [
    "# the extracted data should look similar to the dataframe below:"
   ]
  },
  {
   "cell_type": "code",
   "execution_count": 18,
   "metadata": {},
   "outputs": [
    {
     "data": {
      "text/html": [
       "<div>\n",
       "<style scoped>\n",
       "    .dataframe tbody tr th:only-of-type {\n",
       "        vertical-align: middle;\n",
       "    }\n",
       "\n",
       "    .dataframe tbody tr th {\n",
       "        vertical-align: top;\n",
       "    }\n",
       "\n",
       "    .dataframe thead th {\n",
       "        text-align: right;\n",
       "    }\n",
       "</style>\n",
       "<table border=\"1\" class=\"dataframe\">\n",
       "  <thead>\n",
       "    <tr style=\"text-align: right;\">\n",
       "      <th></th>\n",
       "      <th>UserID</th>\n",
       "      <th>ScreenName</th>\n",
       "      <th>AccountCreated</th>\n",
       "      <th>Description</th>\n",
       "      <th>Tweets</th>\n",
       "      <th>TweetCreatedAt</th>\n",
       "      <th>TweetFavouriteCount</th>\n",
       "      <th>FollowersCount</th>\n",
       "      <th>StatusesCount</th>\n",
       "      <th>FriendsCount</th>\n",
       "    </tr>\n",
       "  </thead>\n",
       "  <tbody>\n",
       "    <tr>\n",
       "      <th>0</th>\n",
       "      <td>30925532</td>\n",
       "      <td>genna_buck</td>\n",
       "      <td>2009-04-13 18:39:12</td>\n",
       "      <td>Freelance journalist+editor with words in @Tor...</td>\n",
       "      <td>RT @SherryAske: Imagine a MONTH-long, 7-stage ...</td>\n",
       "      <td>2019-03-25 02:02:33</td>\n",
       "      <td>0</td>\n",
       "      <td>2018</td>\n",
       "      <td>6374</td>\n",
       "      <td>1903</td>\n",
       "    </tr>\n",
       "    <tr>\n",
       "      <th>1</th>\n",
       "      <td>58211781</td>\n",
       "      <td>NalakaG</td>\n",
       "      <td>2009-07-19 14:54:11</td>\n",
       "      <td>Science writer, tech watcher &amp; media analyst. ...</td>\n",
       "      <td>RT @BillGates: I’m inspired by Azim Premji’s c...</td>\n",
       "      <td>2019-03-25 08:55:00</td>\n",
       "      <td>0</td>\n",
       "      <td>17984</td>\n",
       "      <td>32502</td>\n",
       "      <td>350</td>\n",
       "    </tr>\n",
       "    <tr>\n",
       "      <th>2</th>\n",
       "      <td>1038119899</td>\n",
       "      <td>GeoffFolsom</td>\n",
       "      <td>2012-12-26 21:28:08</td>\n",
       "      <td>Seeking news/sport story ideas at gfolsom@redm...</td>\n",
       "      <td>@TEXPAMAN @Evan_P_Grant Yikes, this is worse t...</td>\n",
       "      <td>2019-03-25 13:13:24</td>\n",
       "      <td>0</td>\n",
       "      <td>721</td>\n",
       "      <td>22469</td>\n",
       "      <td>728</td>\n",
       "    </tr>\n",
       "    <tr>\n",
       "      <th>3</th>\n",
       "      <td>38382649</td>\n",
       "      <td>royaltyuso</td>\n",
       "      <td>2009-05-07 06:11:31</td>\n",
       "      <td>Global Citizen | @BangorUni alumnus - https://...</td>\n",
       "      <td>Thank you Lord JESUS for this afternoon.</td>\n",
       "      <td>2019-03-25 11:00:55</td>\n",
       "      <td>4</td>\n",
       "      <td>8686</td>\n",
       "      <td>81231</td>\n",
       "      <td>2077</td>\n",
       "    </tr>\n",
       "    <tr>\n",
       "      <th>4</th>\n",
       "      <td>76351820</td>\n",
       "      <td>louistheroux</td>\n",
       "      <td>2009-09-22 14:51:17</td>\n",
       "      <td>I am involved in the making of documentaries. ...</td>\n",
       "      <td>Good morning! https://t.co/NJeior3DfT</td>\n",
       "      <td>2019-03-24 07:57:19</td>\n",
       "      <td>3038</td>\n",
       "      <td>2005045</td>\n",
       "      <td>3163</td>\n",
       "      <td>1681</td>\n",
       "    </tr>\n",
       "  </tbody>\n",
       "</table>\n",
       "</div>"
      ],
      "text/plain": [
       "       UserID    ScreenName      AccountCreated  \\\n",
       "0    30925532    genna_buck 2009-04-13 18:39:12   \n",
       "1    58211781       NalakaG 2009-07-19 14:54:11   \n",
       "2  1038119899   GeoffFolsom 2012-12-26 21:28:08   \n",
       "3    38382649    royaltyuso 2009-05-07 06:11:31   \n",
       "4    76351820  louistheroux 2009-09-22 14:51:17   \n",
       "\n",
       "                                         Description  \\\n",
       "0  Freelance journalist+editor with words in @Tor...   \n",
       "1  Science writer, tech watcher & media analyst. ...   \n",
       "2  Seeking news/sport story ideas at gfolsom@redm...   \n",
       "3  Global Citizen | @BangorUni alumnus - https://...   \n",
       "4  I am involved in the making of documentaries. ...   \n",
       "\n",
       "                                              Tweets      TweetCreatedAt  \\\n",
       "0  RT @SherryAske: Imagine a MONTH-long, 7-stage ... 2019-03-25 02:02:33   \n",
       "1  RT @BillGates: I’m inspired by Azim Premji’s c... 2019-03-25 08:55:00   \n",
       "2  @TEXPAMAN @Evan_P_Grant Yikes, this is worse t... 2019-03-25 13:13:24   \n",
       "3           Thank you Lord JESUS for this afternoon. 2019-03-25 11:00:55   \n",
       "4              Good morning! https://t.co/NJeior3DfT 2019-03-24 07:57:19   \n",
       "\n",
       "   TweetFavouriteCount  FollowersCount  StatusesCount  FriendsCount  \n",
       "0                    0            2018           6374          1903  \n",
       "1                    0           17984          32502           350  \n",
       "2                    0             721          22469           728  \n",
       "3                    4            8686          81231          2077  \n",
       "4                 3038         2005045           3163          1681  "
      ]
     },
     "execution_count": 18,
     "metadata": {},
     "output_type": "execute_result"
    }
   ],
   "source": [
    "dfs"
   ]
  },
  {
   "cell_type": "code",
   "execution_count": null,
   "metadata": {},
   "outputs": [],
   "source": []
  }
 ],
 "metadata": {
  "kernelspec": {
   "display_name": "TensorFlow-GPU",
   "language": "python",
   "name": "tf-gpu"
  },
  "language_info": {
   "codemirror_mode": {
    "name": "ipython",
    "version": 3
   },
   "file_extension": ".py",
   "mimetype": "text/x-python",
   "name": "python",
   "nbconvert_exporter": "python",
   "pygments_lexer": "ipython3",
   "version": "3.6.8"
  }
 },
 "nbformat": 4,
 "nbformat_minor": 2
}
